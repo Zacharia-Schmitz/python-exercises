{
 "cells": [
  {
   "cell_type": "markdown",
   "metadata": {},
   "source": [
    "# 1. Conditional Basic"
   ]
  },
  {
   "cell_type": "code",
   "execution_count": 9,
   "metadata": {},
   "outputs": [
    {
     "name": "stdout",
     "output_type": "stream",
     "text": [
      "It is Monday.\n"
     ]
    }
   ],
   "source": [
    "# a. Prompt the user for a day of the week, print out whether the day is Monday or not\n",
    "\n",
    "day = input(\"What day of the week is it?\").lower()\n",
    "\n",
    "if day == 'monday':\n",
    "    print('It is Monday.')"
   ]
  },
  {
   "cell_type": "code",
   "execution_count": 14,
   "metadata": {},
   "outputs": [
    {
     "name": "stdout",
     "output_type": "stream",
     "text": [
      "It is the weekend\n"
     ]
    }
   ],
   "source": [
    "# b. Prompt the user for a day of the week, print out whether the day is a weekday or a weekend\n",
    "\n",
    "day = input(\"What day of the week is it?\").lower()\n",
    "\n",
    "if day == 'saturday' or day == 'sunday':\n",
    "    print('It is the weekend.')\n",
    "else:\n",
    "    print('It is a weekday.')"
   ]
  },
  {
   "cell_type": "code",
   "execution_count": 21,
   "metadata": {},
   "outputs": [
    {
     "name": "stdout",
     "output_type": "stream",
     "text": [
      "40 hours or less: $ 330\n"
     ]
    }
   ],
   "source": [
    "# c. Calculate a weekly paycheck, accounting for overtime pay. Create variables and make up values for:\n",
    "\n",
    "    # The number of hours worked in one week\n",
    "    # The hourly rate\n",
    "    # For working 40 hours or less, each hour is paid at the hourly rate\n",
    "    # For working more than 40 hours\n",
    "    # the first 40 hours are paid at the hourly rate\n",
    "    # each hour after 40 is paid at time and a half (hourly rate * 1.5)\n",
    "    \n",
    "hours_worked = 33\n",
    "hourly_rate = 10\n",
    "\n",
    "if hours_worked <= 40:\n",
    "    print('40 hours or less: $', hours_worked * hourly_rate)\n",
    "elif hours_worked > 40:\n",
    "    print('40 hours + overtime: $', (hours_worked - 40) * (hourly_rate * 1.5) + (40 * hourly_rate))"
   ]
  },
  {
   "cell_type": "markdown",
   "metadata": {},
   "source": [
    "# 2. Loop Basics\n",
    "\n",
    "## a. While:"
   ]
  },
  {
   "cell_type": "markdown",
   "metadata": {},
   "source": [
    "- Create an integer variable i with a value of 5. Create a while loop that runs so long as i is less than or equal to 15. Each loop iteration, output the current value of i, then increment i by one."
   ]
  },
  {
   "cell_type": "code",
   "execution_count": 24,
   "metadata": {},
   "outputs": [
    {
     "name": "stdout",
     "output_type": "stream",
     "text": [
      "5\n",
      "6\n",
      "7\n",
      "8\n",
      "9\n",
      "10\n",
      "11\n",
      "12\n",
      "13\n",
      "14\n",
      "15\n"
     ]
    }
   ],
   "source": [
    "i = 5\n",
    "\n",
    "while i <= 15:\n",
    "    print(i)\n",
    "    i += 1"
   ]
  },
  {
   "cell_type": "markdown",
   "metadata": {},
   "source": [
    "- Create a while loop that will count by 2's starting with 0 and ending at 100. Follow each number with a new line.\n"
   ]
  },
  {
   "cell_type": "code",
   "execution_count": 32,
   "metadata": {},
   "outputs": [
    {
     "name": "stdout",
     "output_type": "stream",
     "text": [
      "0\n",
      "2\n",
      "4\n",
      "6\n",
      "8\n",
      "10\n",
      "12\n",
      "14\n",
      "16\n",
      "18\n",
      "20\n",
      "22\n",
      "24\n",
      "26\n",
      "28\n",
      "30\n",
      "32\n",
      "34\n",
      "36\n",
      "38\n",
      "40\n",
      "42\n",
      "44\n",
      "46\n",
      "48\n",
      "50\n",
      "52\n",
      "54\n",
      "56\n",
      "58\n",
      "60\n",
      "62\n",
      "64\n",
      "66\n",
      "68\n",
      "70\n",
      "72\n",
      "74\n",
      "76\n",
      "78\n",
      "80\n",
      "82\n",
      "84\n",
      "86\n",
      "88\n",
      "90\n",
      "92\n",
      "94\n",
      "96\n",
      "98\n",
      "100\n"
     ]
    }
   ],
   "source": [
    "bog = 0\n",
    "\n",
    "while bog <= 100:\n",
    "    print(bog)\n",
    "    bog += 2\n",
    "    if bog == 100:\n",
    "        print(bog)"
   ]
  },
  {
   "cell_type": "markdown",
   "metadata": {},
   "source": [
    "- Create a while loop that starts at 2, and displays the number squared on each line while the number is less than 1,000,000. Output should equal:\n",
    "\n",
    "<pre>\n",
    " 2\n",
    " 4\n",
    " 16\n",
    " 256\n",
    " 65536\n",
    "</pre>"
   ]
  },
  {
   "cell_type": "code",
   "execution_count": 41,
   "metadata": {},
   "outputs": [
    {
     "name": "stdout",
     "output_type": "stream",
     "text": [
      "2\n",
      "4\n",
      "16\n",
      "256\n",
      "65536\n"
     ]
    }
   ],
   "source": [
    "num = 2\n",
    "\n",
    "while num < 1000000:\n",
    "    print(num)\n",
    "    num **= 2"
   ]
  },
  {
   "cell_type": "markdown",
   "metadata": {},
   "source": [
    "- Write a while loop that uses print to create the output shown below.\n",
    "<pre>\n",
    "100\n",
    "95\n",
    "90\n",
    "85\n",
    "80\n",
    "75\n",
    "70\n",
    "65\n",
    "60\n",
    "55\n",
    "50\n",
    "45\n",
    "40\n",
    "35\n",
    "30\n",
    "25\n",
    "20\n",
    "15\n",
    "10\n",
    "5\n",
    "</pre>\n"
   ]
  },
  {
   "cell_type": "code",
   "execution_count": 43,
   "metadata": {},
   "outputs": [
    {
     "name": "stdout",
     "output_type": "stream",
     "text": [
      "100\n",
      "95\n",
      "90\n",
      "85\n",
      "80\n",
      "75\n",
      "70\n",
      "65\n",
      "60\n",
      "55\n",
      "50\n",
      "45\n",
      "40\n",
      "35\n",
      "30\n",
      "25\n",
      "20\n",
      "15\n",
      "10\n",
      "5\n"
     ]
    }
   ],
   "source": [
    "x = 100\n",
    "\n",
    "while x != 0:\n",
    "    print(x)\n",
    "    x -= 5"
   ]
  },
  {
   "cell_type": "markdown",
   "metadata": {},
   "source": [
    "## b. For Loops"
   ]
  },
  {
   "cell_type": "markdown",
   "metadata": {},
   "source": [
    "- Write some code using a for loop that prompts the user for a number, then shows a multiplication table up through 10 for that number.\n",
    "\n",
    "**Example with 7:**\n",
    "<pre>\n",
    "7 x 1 = 7\n",
    "7 x 2 = 14\n",
    "7 x 3 = 21\n",
    "7 x 4 = 28\n",
    "7 x 5 = 35\n",
    "7 x 6 = 42\n",
    "7 x 7 = 49\n",
    "7 x 8 = 56\n",
    "7 x 9 = 63\n",
    "7 x 10 = 70\n",
    "</pre>"
   ]
  },
  {
   "cell_type": "code",
   "execution_count": 50,
   "metadata": {},
   "outputs": [
    {
     "name": "stdout",
     "output_type": "stream",
     "text": [
      "4 x 1 = 4\n",
      "4 x 2 = 8\n",
      "4 x 3 = 12\n",
      "4 x 4 = 16\n",
      "4 x 5 = 20\n",
      "4 x 6 = 24\n",
      "4 x 7 = 28\n",
      "4 x 8 = 32\n",
      "4 x 9 = 36\n",
      "4 x 10 = 40\n"
     ]
    }
   ],
   "source": [
    "z = int(input('Give me a number: '))\n",
    "y = 1\n",
    "\n",
    "while y <= 10:\n",
    "    print(f'{z} x {y} = {z * y}')\n",
    "    y += 1"
   ]
  },
  {
   "cell_type": "markdown",
   "metadata": {},
   "source": [
    "- Create a for loop that uses print to create the output shown below.\n",
    "<pre>\n",
    "1\n",
    "22\n",
    "333\n",
    "4444\n",
    "55555\n",
    "666666\n",
    "7777777\n",
    "88888888\n",
    "999999999\n",
    "</pre>"
   ]
  },
  {
   "cell_type": "code",
   "execution_count": 51,
   "metadata": {},
   "outputs": [
    {
     "name": "stdout",
     "output_type": "stream",
     "text": [
      "1\n",
      "22\n",
      "333\n",
      "4444\n",
      "55555\n",
      "666666\n",
      "7777777\n",
      "88888888\n",
      "999999999\n"
     ]
    }
   ],
   "source": [
    "for i in range(1, 10):\n",
    "    print(str(i) * i)"
   ]
  },
  {
   "cell_type": "markdown",
   "metadata": {},
   "source": [
    "## c. Break and Continue"
   ]
  },
  {
   "cell_type": "markdown",
   "metadata": {},
   "source": [
    "- Write a program that prompts the user for a positive integer. Next write a loop that prints out the numbers from the number the user entered down to 1."
   ]
  },
  {
   "cell_type": "code",
   "execution_count": 53,
   "metadata": {},
   "outputs": [
    {
     "name": "stdout",
     "output_type": "stream",
     "text": [
      "5\n",
      "4\n",
      "3\n",
      "2\n",
      "1\n"
     ]
    }
   ],
   "source": [
    "num = int(input(\"Enter a positive integer: \"))\n",
    "\n",
    "while num > 0:\n",
    "    print(num)\n",
    "    num -= 1"
   ]
  },
  {
   "cell_type": "markdown",
   "metadata": {},
   "source": [
    "- The input function can be used to prompt for input and use that input in your python code. Prompt the user to enter a positive number and write a loop that counts from 0 to that number. (Hints: note that the input function returns a string, so you'll need to convert this to a numeric type.)"
   ]
  },
  {
   "cell_type": "code",
   "execution_count": 54,
   "metadata": {},
   "outputs": [
    {
     "name": "stdout",
     "output_type": "stream",
     "text": [
      "0\n",
      "1\n",
      "2\n",
      "3\n",
      "4\n",
      "5\n",
      "6\n",
      "7\n",
      "8\n"
     ]
    }
   ],
   "source": [
    "num = int(input(\"Enter a positive number: \"))\n",
    "\n",
    "for i in range(num + 1):\n",
    "    print(i)"
   ]
  },
  {
   "cell_type": "markdown",
   "metadata": {},
   "source": [
    "- Prompt the user for an odd number between 1 and 50. Use a loop and a break statement to continue prompting the user if they enter invalid input. (Hint: use the isdigit method on strings to determine this). Use a loop and the continue statement to output all the odd numbers between 1 and 50, except for the number the user entered."
   ]
  },
  {
   "cell_type": "code",
   "execution_count": 63,
   "metadata": {},
   "outputs": [
    {
     "name": "stdout",
     "output_type": "stream",
     "text": [
      "Here is an odd number: 1\n",
      "Here is an odd number: 3\n",
      "Here is an odd number: 5\n",
      "Here is an odd number: 7\n",
      "Here is an odd number: 9\n",
      "Here is an odd number: 11\n",
      "Here is an odd number: 13\n",
      "Here is an odd number: 15\n",
      "Here is an odd number: 17\n",
      "Here is an odd number: 19\n",
      "Here is an odd number: 21\n",
      "Here is an odd number: 23\n",
      "Here is an odd number: 25\n",
      "Here is an odd number: 27\n",
      "Here is an odd number: 29\n",
      "Here is an odd number: 31\n",
      "Here is an odd number: 33\n",
      "Here is an odd number: 35\n",
      "Yikes! Skipping number: 37\n",
      "Here is an odd number: 39\n",
      "Here is an odd number: 41\n",
      "Here is an odd number: 43\n",
      "Here is an odd number: 45\n",
      "Here is an odd number: 47\n",
      "Here is an odd number: 49\n"
     ]
    }
   ],
   "source": [
    "while True:\n",
    "    num = input(\"Enter an odd number between 1 and 50: \")\n",
    "    if not num.isdigit() and int(num) % 2 == 1 and 1 <= int(num) <= 50:\n",
    "        print('Try again')\n",
    "    if num.isdigit() and int(num) % 2 == 1 and 1 <= int(num) <= 50:\n",
    "        break\n",
    "\n",
    "num = int(num)\n",
    "\n",
    "for i in range(1, 51, 2):\n",
    "    if i == num:\n",
    "        print(f'Yikes! Skipping number: {num}')\n",
    "        continue\n",
    "    print(f'Here is an odd number: {i}')"
   ]
  },
  {
   "cell_type": "markdown",
   "metadata": {},
   "source": [
    "- Output should be:\n",
    "\n",
    "<pre>\n",
    "Number to skip is: 27\n",
    "\n",
    "Here is an odd number: 1 \n",
    "Here is an odd number: 3 \n",
    "Here is an odd number: 5\n",
    "Here is an odd number: 7\n",
    "Here is an odd number: 9\n",
    "Here is an odd number: 11\n",
    "Here is an odd number: 13\n",
    "Here is an odd number: 15\n",
    "Here is an odd number: 17\n",
    "Here is an odd number: 19\n",
    "Here is an odd number: 21\n",
    "Here is an odd number: 23\n",
    "Here is an odd number: 25\n",
    "Yikes! Skipping number: 27\n",
    "Here is an odd number: 29\n",
    "Here is an odd number: 31\n",
    "Here is an odd number: 33\n",
    "Here is an odd number: 35\n",
    "Here is an odd number: 37\n",
    "Here is an odd number: 39\n",
    "Here is an odd number: 41\n",
    "Here is an odd number: 43\n",
    "Here is an odd number: 45\n",
    "Here is an odd number: 47\n",
    "Here is an odd number: 49\n",
    "</pre>"
   ]
  },
  {
   "cell_type": "markdown",
   "metadata": {},
   "source": [
    "# 3. Fizzbuzz\n",
    "\n",
    "- One of the most common interview questions for entry-level programmers is the FizzBuzz test. Developed by Imran Ghory, the test is designed to test basic looping and conditional logic skills.\n",
    "\n",
    "    - Write a program that prints the numbers from 1 to 100.\n",
    "    - For multiples of three print \"Fizz\" instead of the number\n",
    "    - For the multiples of five print \"Buzz\".\n",
    "    - For numbers which are multiples of both three and five print \"FizzBuzz\"."
   ]
  },
  {
   "cell_type": "code",
   "execution_count": 29,
   "metadata": {},
   "outputs": [],
   "source": [
    "# Answer"
   ]
  },
  {
   "cell_type": "markdown",
   "metadata": {},
   "source": [
    "# 4. Display a table of powers.\n",
    "\n",
    "- Prompt the user to enter an integer\n",
    "- Display a table of squares and cubes from 1 to the value entered\n",
    "- Ask if the user wants to continue\n",
    "- Assume that the user will enter valid data\n",
    "- Only continue if the user agrees to\n",
    "\n",
    "**Example:**\n",
    "<pre>\n",
    "What number would you like to go up to? 5\n",
    "\n",
    "Here is your table!\n",
    "\n",
    "number | squared | cubed\n",
    "------ | ------- | -----\n",
    "1      | 1       | 1\n",
    "2      | 4       | 8\n",
    "3      | 9       | 27\n",
    "4      | 16      | 64\n",
    "5      | 25      | 125</pre>"
   ]
  },
  {
   "cell_type": "markdown",
   "metadata": {},
   "source": [
    "# 5. Convert given number grades into letter grades.\n",
    "\n",
    "- Prompt the user for a numerical grade from 0 to 100\n",
    "- Display the corresponding letter grade\n",
    "- Prompt the user to continue\n",
    "- Assume that the user will enter valid integers for the grades\n",
    "- The application should only continue if the user agrees to\n",
    "\n",
    "<pre> \n",
    "Grade Ranges:\n",
    "\n",
    "A : 100 - 88\n",
    "B : 87 - 80\n",
    "C : 79 - 67\n",
    "D : 66 - 60\n",
    "F : 59 - 0 </pre>"
   ]
  },
  {
   "cell_type": "code",
   "execution_count": 32,
   "metadata": {},
   "outputs": [],
   "source": [
    "# Answer"
   ]
  },
  {
   "cell_type": "markdown",
   "metadata": {},
   "source": [
    "# 6. Dictionaries\n",
    "\n",
    "- Create a list of dictionaries where each dictionary represents a book that you have read. Each dictionary in the list should have the keys title, author, and genre. Loop through the list and print out information about each book.\n",
    "\n",
    "    - Prompt the user to enter a genre, then loop through your books list and print out the titles of all the books in that genre."
   ]
  },
  {
   "cell_type": "code",
   "execution_count": 33,
   "metadata": {},
   "outputs": [],
   "source": [
    "# Answer"
   ]
  },
  {
   "cell_type": "markdown",
   "metadata": {},
   "source": [
    "# Bonus Exercises"
   ]
  },
  {
   "cell_type": "markdown",
   "metadata": {},
   "source": [
    "- For your Power of Tables exercise, research python's format string specifiers to align the table"
   ]
  },
  {
   "cell_type": "code",
   "execution_count": 30,
   "metadata": {},
   "outputs": [],
   "source": [
    "# Answer"
   ]
  },
  {
   "cell_type": "markdown",
   "metadata": {},
   "source": [
    "- For your Number Grade to Letter Grade exercise, edit your grade ranges to include pluses and minuses (ex: 99-100 = A+)"
   ]
  },
  {
   "cell_type": "code",
   "execution_count": 31,
   "metadata": {},
   "outputs": [],
   "source": [
    "# Answer"
   ]
  },
  {
   "cell_type": "markdown",
   "metadata": {},
   "source": [
    "- For practicing with list comprehensions, work through 17 [List Comprehension Exercises](https://gist.github.com/ryanorsinger/f7d7c1dd6a328730c04f3dc5c5c69f3a)"
   ]
  },
  {
   "cell_type": "markdown",
   "metadata": {},
   "source": [
    "- For even more practice with all your Python tools together, work through [20 Python Data Structure Manipulation Exercises](https://gist.github.com/zgulde/2043cba6072fe5b55b272513ae575577)"
   ]
  },
  {
   "cell_type": "markdown",
   "metadata": {},
   "source": [
    "---\n",
    "\n",
    "# Control Structures Notes\n",
    "\n",
    "## if statement\n",
    "- ends in a colon\n",
    "- if this, then that\n",
    "- if needs a boolean statement\n",
    "- once it hits first true, it stops\n",
    "- nested statements (indented) matter\n",
    "\n",
    "```\n",
    "it_is_raining = False\n",
    "\n",
    "if it_is_raining:\n",
    "    print('Better bring an umbrella!')\n",
    "else:\n",
    "    print('Looks like a nice, sunny day!')\n",
    "```\n",
    "\n",
    "## elif statement\n",
    "- will run until one of the if/elif render true, otherwise, it will run the else statement\n",
    "- when an if statement is true, it will keep going\n",
    "- when an elif statement is true, it will stop\n",
    "\n",
    "```\n",
    "input = input('Do you like your coffee light, medium, or dark?)\n",
    "\n",
    "if input == 'dark':\n",
    "    print('I love a good dark roast!')\n",
    "elif input == 'medium':\n",
    "    print('Middle of the road, huh?')\n",
    "elif input == 'light':\n",
    "    print('Light roast has the most caffeine!')\n",
    "else:\n",
    "    print('How about some tea then?')\n",
    "```\n",
    "\n",
    "## loop statements\n",
    "- i is the variable in the loop\n",
    "- itr is the whole loop?\n",
    "\n",
    "\n",
    "### for loop\n",
    "- usually does until completed\n",
    "\n",
    "```\n",
    "for letter in 'abcde':\n",
    "    print(letter)\n",
    "```\n",
    "\n",
    "- can include if statements\n",
    "```\n",
    "for letter in 'abcde':\n",
    "    if letter == 'b':\n",
    "        continue    # continue will continue past\n",
    "    print(letter)\n",
    "```\n",
    "\n",
    "### while loop\n",
    "- can run into infinite loop if nothing changes and all true\n",
    "- if the thing is true; do the action\n",
    "- as long as the action is true; keep doing the action\n",
    "- if the thing is false; stop the action\n",
    "\n",
    "```\n",
    "i = 5\n",
    "while i <= 10:\n",
    "    print(i)\n",
    "    i += 1\n",
    "```"
   ]
  },
  {
   "cell_type": "code",
   "execution_count": null,
   "metadata": {},
   "outputs": [],
   "source": []
  },
  {
   "cell_type": "markdown",
   "metadata": {},
   "source": [
    "# Random notes:\n",
    "\n",
    "(x += 1) and (x = x + 1) are the same thing"
   ]
  },
  {
   "cell_type": "code",
   "execution_count": 17,
   "metadata": {},
   "outputs": [
    {
     "name": "stdout",
     "output_type": "stream",
     "text": [
      "2\n",
      "still going...\n",
      "3\n",
      "still going...\n",
      "4\n",
      "still going...\n",
      "5\n",
      "still going...\n",
      "6\n",
      "still going...\n",
      "7\n",
      "still going...\n",
      "8\n",
      "still going...\n",
      "9\n",
      "still going...\n",
      "10\n",
      "still going...\n",
      "11\n",
      "We're done\n"
     ]
    }
   ],
   "source": [
    "x = 1\n",
    "\n",
    "for num in range(10):\n",
    "    x += 1\n",
    "    print(x)\n",
    "    if x < 11:\n",
    "        print('still going...')\n",
    "    else:\n",
    "        print(\"We're done\")"
   ]
  },
  {
   "cell_type": "markdown",
   "metadata": {},
   "source": []
  },
  {
   "cell_type": "code",
   "execution_count": 3,
   "metadata": {},
   "outputs": [
    {
     "name": "stdout",
     "output_type": "stream",
     "text": [
      "I love a good dark roast!\n"
     ]
    }
   ],
   "source": [
    "coffee_type = input(\"How do you like your coffee? Dark, medium, or light? \").lower()\n",
    "\n",
    "if coffee_type == 'dark':\n",
    "    print('I love a good dark roast!')\n",
    "elif coffee_type == 'medium':\n",
    "    print('Middle of the road, huh?')\n",
    "elif coffee_type == 'light':\n",
    "    print('Light roast has the most caffeine!')\n",
    "else:\n",
    "    print('How about some tea then?')\n"
   ]
  },
  {
   "cell_type": "code",
   "execution_count": null,
   "metadata": {},
   "outputs": [],
   "source": []
  }
 ],
 "metadata": {
  "kernelspec": {
   "display_name": "Python 3",
   "language": "python",
   "name": "python3"
  },
  "language_info": {
   "codemirror_mode": {
    "name": "ipython",
    "version": 3
   },
   "file_extension": ".py",
   "mimetype": "text/x-python",
   "name": "python",
   "nbconvert_exporter": "python",
   "pygments_lexer": "ipython3",
   "version": "3.11.4"
  },
  "orig_nbformat": 4
 },
 "nbformat": 4,
 "nbformat_minor": 2
}
