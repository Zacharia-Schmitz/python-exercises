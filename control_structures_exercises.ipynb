{
 "cells": [
  {
   "cell_type": "markdown",
   "metadata": {},
   "source": [
    "# 1. Conditional Basic"
   ]
  },
  {
   "cell_type": "code",
   "execution_count": 57,
   "metadata": {},
   "outputs": [
    {
     "name": "stdout",
     "output_type": "stream",
     "text": [
      "It is Monday.\n"
     ]
    }
   ],
   "source": [
    "# a. Prompt the user for a day of the week, print out whether the day is Monday or not\n",
    "\n",
    "day = input(\"What day of the week is it?\").lower()\n",
    "\n",
    "if day == 'monday':\n",
    "    print('It is Monday.')"
   ]
  },
  {
   "cell_type": "code",
   "execution_count": 59,
   "metadata": {},
   "outputs": [
    {
     "name": "stdout",
     "output_type": "stream",
     "text": [
      "It is the weekend.\n"
     ]
    }
   ],
   "source": [
    "# b. Prompt the user for a day of the week, print out whether the day is a weekday or a weekend\n",
    "\n",
    "day = input(\"What day of the week is it?\").lower()\n",
    "\n",
    "#if day == 'saturday' or day == 'sunday':\n",
    "if day in ('saturday', 'sunday'):\n",
    "    print('It is the weekend.')\n",
    "else:\n",
    "    print('It is a weekday.')"
   ]
  },
  {
   "cell_type": "code",
   "execution_count": 60,
   "metadata": {},
   "outputs": [
    {
     "name": "stdout",
     "output_type": "stream",
     "text": [
      "40 hours or less: $ 330\n"
     ]
    }
   ],
   "source": [
    "# c. Calculate a weekly paycheck, accounting for overtime pay. Create variables and make up values for:\n",
    "\n",
    "    # The number of hours worked in one week\n",
    "    # The hourly rate\n",
    "    # For working 40 hours or less, each hour is paid at the hourly rate\n",
    "    # For working more than 40 hours\n",
    "    # the first 40 hours are paid at the hourly rate\n",
    "    # each hour after 40 is paid at time and a half (hourly rate * 1.5)\n",
    "\n",
    "#hours_worked = input(How many hours did you work? EX: 40)\n",
    "#hourly_rate = input(What is your hourly rate? EX: 15)\n",
    "hours_worked = 33\n",
    "hourly_rate = 10\n",
    "ot_rate = 1.5\n",
    "\n",
    "if hours_worked <= 40:\n",
    "    print('40 hours or less: $', hours_worked * hourly_rate)\n",
    "elif hours_worked > 40:\n",
    "    print('40 hours + overtime: $', (hours_worked - 40) * (hourly_rate * ot_rate) + (40 * hourly_rate))"
   ]
  },
  {
   "cell_type": "markdown",
   "metadata": {},
   "source": [
    "# 2. Loop Basics\n",
    "\n",
    "## a. While:"
   ]
  },
  {
   "cell_type": "markdown",
   "metadata": {},
   "source": [
    "- Create an integer variable i with a value of 5. Create a while loop that runs so long as i is less than or equal to 15. Each loop iteration, output the current value of i, then increment i by one."
   ]
  },
  {
   "cell_type": "code",
   "execution_count": 50,
   "metadata": {},
   "outputs": [
    {
     "name": "stdout",
     "output_type": "stream",
     "text": [
      "5\n",
      "6\n",
      "7\n",
      "8\n",
      "9\n",
      "10\n",
      "11\n",
      "12\n",
      "13\n",
      "14\n",
      "15\n"
     ]
    }
   ],
   "source": [
    "i = 5\n",
    "\n",
    "while i <= 15:\n",
    "    print(i)\n",
    "    i += 1"
   ]
  },
  {
   "cell_type": "markdown",
   "metadata": {},
   "source": [
    "- Create a while loop that will count by 2's starting with 0 and ending at 100. Follow each number with a new line.\n"
   ]
  },
  {
   "cell_type": "code",
   "execution_count": 64,
   "metadata": {},
   "outputs": [
    {
     "name": "stdout",
     "output_type": "stream",
     "text": [
      "0\n",
      "2\n",
      "4\n",
      "6\n",
      "8\n",
      "10\n",
      "12\n",
      "14\n",
      "16\n",
      "18\n",
      "20\n",
      "22\n",
      "24\n",
      "26\n",
      "28\n",
      "30\n",
      "32\n",
      "34\n",
      "36\n",
      "38\n",
      "40\n",
      "42\n",
      "44\n",
      "46\n",
      "48\n",
      "50\n",
      "52\n",
      "54\n",
      "56\n",
      "58\n",
      "60\n",
      "62\n",
      "64\n",
      "66\n",
      "68\n",
      "70\n",
      "72\n",
      "74\n",
      "76\n",
      "78\n",
      "80\n",
      "82\n",
      "84\n",
      "86\n",
      "88\n",
      "90\n",
      "92\n",
      "94\n",
      "96\n",
      "98\n",
      "100\n"
     ]
    }
   ],
   "source": [
    "x = 0\n",
    "\n",
    "while x <= 100:\n",
    "    print(x)\n",
    "    x += 2"
   ]
  },
  {
   "cell_type": "markdown",
   "metadata": {},
   "source": [
    "- Create a while loop that starts at 2, and displays the number squared on each line while the number is less than 1,000,000. Output should equal:\n",
    "\n",
    "<pre>\n",
    " 2\n",
    " 4\n",
    " 16\n",
    " 256\n",
    " 65536\n",
    "</pre>"
   ]
  },
  {
   "cell_type": "code",
   "execution_count": 65,
   "metadata": {},
   "outputs": [
    {
     "name": "stdout",
     "output_type": "stream",
     "text": [
      "2\n",
      "4\n",
      "16\n",
      "256\n",
      "65536\n"
     ]
    }
   ],
   "source": [
    "x = 2\n",
    "\n",
    "while x < 1000000:\n",
    "    print(x)\n",
    "    x **= 2"
   ]
  },
  {
   "cell_type": "markdown",
   "metadata": {},
   "source": [
    "- Write a while loop that uses print to create the output shown below.\n",
    "<pre>\n",
    "100\n",
    "95\n",
    "90\n",
    "85\n",
    "80\n",
    "75\n",
    "70\n",
    "65\n",
    "60\n",
    "55\n",
    "50\n",
    "45\n",
    "40\n",
    "35\n",
    "30\n",
    "25\n",
    "20\n",
    "15\n",
    "10\n",
    "5\n",
    "</pre>\n"
   ]
  },
  {
   "cell_type": "code",
   "execution_count": 53,
   "metadata": {},
   "outputs": [
    {
     "name": "stdout",
     "output_type": "stream",
     "text": [
      "100\n",
      "95\n",
      "90\n",
      "85\n",
      "80\n",
      "75\n",
      "70\n",
      "65\n",
      "60\n",
      "55\n",
      "50\n",
      "45\n",
      "40\n",
      "35\n",
      "30\n",
      "25\n",
      "20\n",
      "15\n",
      "10\n",
      "5\n"
     ]
    }
   ],
   "source": [
    "x = 100\n",
    "\n",
    "while x != 0:\n",
    "    print(x)\n",
    "    x -= 5"
   ]
  },
  {
   "cell_type": "markdown",
   "metadata": {},
   "source": [
    "## b. For Loops"
   ]
  },
  {
   "cell_type": "markdown",
   "metadata": {},
   "source": [
    "- Write some code using a for loop that prompts the user for a number, then shows a multiplication table up through 10 for that number.\n",
    "\n",
    "**Example with 7:**\n",
    "<pre>\n",
    "7 x 1 = 7\n",
    "7 x 2 = 14\n",
    "7 x 3 = 21\n",
    "7 x 4 = 28\n",
    "7 x 5 = 35\n",
    "7 x 6 = 42\n",
    "7 x 7 = 49\n",
    "7 x 8 = 56\n",
    "7 x 9 = 63\n",
    "7 x 10 = 70\n",
    "</pre>"
   ]
  },
  {
   "cell_type": "code",
   "execution_count": 66,
   "metadata": {},
   "outputs": [
    {
     "name": "stdout",
     "output_type": "stream",
     "text": [
      "5 x 1 = 5\n",
      "5 x 2 = 10\n",
      "5 x 3 = 15\n",
      "5 x 4 = 20\n",
      "5 x 5 = 25\n",
      "5 x 6 = 30\n",
      "5 x 7 = 35\n",
      "5 x 8 = 40\n",
      "5 x 9 = 45\n",
      "5 x 10 = 50\n"
     ]
    }
   ],
   "source": [
    "z = int(input('Give me a number: '))\n",
    "y = 1\n",
    "\n",
    "'''\n",
    "What I did:\n",
    "while y <= 10:\n",
    "    print(f'{z} x {y} = {z * y}')\n",
    "    y += 1\n",
    "'''\n",
    "\n",
    "#The better way\n",
    "for i in range(1,11):\n",
    "    print(f'{z} x {i} = {z * i}')\n",
    "\n"
   ]
  },
  {
   "cell_type": "markdown",
   "metadata": {},
   "source": [
    "- Create a for loop that uses print to create the output shown below.\n",
    "<pre>\n",
    "1\n",
    "22\n",
    "333\n",
    "4444\n",
    "55555\n",
    "666666\n",
    "7777777\n",
    "88888888\n",
    "999999999\n",
    "</pre>"
   ]
  },
  {
   "cell_type": "code",
   "execution_count": null,
   "metadata": {},
   "outputs": [
    {
     "name": "stdout",
     "output_type": "stream",
     "text": [
      "1\n",
      "22\n",
      "333\n",
      "4444\n",
      "55555\n",
      "666666\n",
      "7777777\n",
      "88888888\n",
      "999999999\n"
     ]
    }
   ],
   "source": [
    "for i in range(1, 10):\n",
    "    print(str(i) * i)"
   ]
  },
  {
   "cell_type": "markdown",
   "metadata": {},
   "source": [
    "## c. Break and Continue"
   ]
  },
  {
   "cell_type": "markdown",
   "metadata": {},
   "source": [
    "- Write a program that prompts the user for a positive integer. Next write a loop that prints out the numbers from the number the user entered down to 1."
   ]
  },
  {
   "cell_type": "code",
   "execution_count": 72,
   "metadata": {},
   "outputs": [
    {
     "name": "stdout",
     "output_type": "stream",
     "text": [
      "5\n",
      "4\n",
      "3\n",
      "2\n",
      "1\n"
     ]
    }
   ],
   "source": [
    "num = int(input(\"Enter a positive integer: \"))\n",
    "\n",
    "\n",
    "'''\n",
    "What I did:\n",
    "while num > 0:\n",
    "    print(num)\n",
    "    num -= 1\n",
    "'''\n",
    "\n",
    "# Another way:\n",
    "for i in range(num+1):\n",
    "    while num > 0:\n",
    "        print(num)\n",
    "        num -= 1"
   ]
  },
  {
   "cell_type": "markdown",
   "metadata": {},
   "source": [
    "- The input function can be used to prompt for input and use that input in your python code. Prompt the user to enter a positive number and write a loop that counts from 0 to that number. (Hints: note that the input function returns a string, so you'll need to convert this to a numeric type.)"
   ]
  },
  {
   "cell_type": "code",
   "execution_count": null,
   "metadata": {},
   "outputs": [
    {
     "name": "stdout",
     "output_type": "stream",
     "text": [
      "0\n",
      "1\n",
      "2\n",
      "3\n",
      "4\n",
      "5\n",
      "6\n",
      "7\n",
      "8\n"
     ]
    }
   ],
   "source": [
    "num = int(input(\"Enter a positive number: \"))\n",
    "\n",
    "for i in range(num + 1):\n",
    "    print(i)"
   ]
  },
  {
   "cell_type": "markdown",
   "metadata": {},
   "source": [
    "- Prompt the user for an odd number between 1 and 50. Use a loop and a break statement to continue prompting the user if they enter invalid input. (Hint: use the isdigit method on strings to determine this). Use a loop and the continue statement to output all the odd numbers between 1 and 50, except for the number the user entered."
   ]
  },
  {
   "cell_type": "code",
   "execution_count": null,
   "metadata": {},
   "outputs": [
    {
     "name": "stdout",
     "output_type": "stream",
     "text": [
      "Here is an odd number: 1\n",
      "Here is an odd number: 3\n",
      "Here is an odd number: 5\n",
      "Here is an odd number: 7\n",
      "Here is an odd number: 9\n",
      "Here is an odd number: 11\n",
      "Here is an odd number: 13\n",
      "Here is an odd number: 15\n",
      "Here is an odd number: 17\n",
      "Here is an odd number: 19\n",
      "Here is an odd number: 21\n",
      "Here is an odd number: 23\n",
      "Here is an odd number: 25\n",
      "Here is an odd number: 27\n",
      "Here is an odd number: 29\n",
      "Here is an odd number: 31\n",
      "Here is an odd number: 33\n",
      "Here is an odd number: 35\n",
      "Yikes! Skipping number: 37\n",
      "Here is an odd number: 39\n",
      "Here is an odd number: 41\n",
      "Here is an odd number: 43\n",
      "Here is an odd number: 45\n",
      "Here is an odd number: 47\n",
      "Here is an odd number: 49\n"
     ]
    }
   ],
   "source": [
    "while True:\n",
    "    num = input(\"Enter an odd number between 1 and 50: \")\n",
    "    if not num.isdigit() and int(num) % 2 == 1 and 1 <= int(num) <= 50:\n",
    "        print('Try again')\n",
    "    if num.isdigit() and int(num) % 2 == 1 and 1 <= int(num) <= 50:\n",
    "        break\n",
    "\n",
    "num = int(num)\n",
    "\n",
    "for i in range(1, 51, 2):\n",
    "    if i == num:\n",
    "        print(f'Yikes! Skipping number: {num}')\n",
    "        continue\n",
    "    print(f'Here is an odd number: {i}')"
   ]
  },
  {
   "cell_type": "markdown",
   "metadata": {},
   "source": [
    "- Output should be:\n",
    "\n",
    "<pre>\n",
    "Number to skip is: 27\n",
    "\n",
    "Here is an odd number: 1 \n",
    "Here is an odd number: 3 \n",
    "Here is an odd number: 5\n",
    "Here is an odd number: 7\n",
    "Here is an odd number: 9\n",
    "Here is an odd number: 11\n",
    "Here is an odd number: 13\n",
    "Here is an odd number: 15\n",
    "Here is an odd number: 17\n",
    "Here is an odd number: 19\n",
    "Here is an odd number: 21\n",
    "Here is an odd number: 23\n",
    "Here is an odd number: 25\n",
    "Yikes! Skipping number: 27\n",
    "Here is an odd number: 29\n",
    "Here is an odd number: 31\n",
    "Here is an odd number: 33\n",
    "Here is an odd number: 35\n",
    "Here is an odd number: 37\n",
    "Here is an odd number: 39\n",
    "Here is an odd number: 41\n",
    "Here is an odd number: 43\n",
    "Here is an odd number: 45\n",
    "Here is an odd number: 47\n",
    "Here is an odd number: 49\n",
    "</pre>"
   ]
  },
  {
   "cell_type": "markdown",
   "metadata": {},
   "source": [
    "# 3. Fizzbuzz\n",
    "\n",
    "- One of the most common interview questions for entry-level programmers is the FizzBuzz test. Developed by Imran Ghory, the test is designed to test basic looping and conditional logic skills.\n",
    "\n",
    "    - Write a program that prints the numbers from 1 to 100.\n",
    "    - For multiples of three print \"Fizz\" instead of the number\n",
    "    - For the multiples of five print \"Buzz\".\n",
    "    - For numbers which are multiples of both three and five print \"FizzBuzz\"."
   ]
  },
  {
   "cell_type": "code",
   "execution_count": 75,
   "metadata": {},
   "outputs": [
    {
     "name": "stdout",
     "output_type": "stream",
     "text": [
      "1\n",
      "2\n",
      "Fizz\n",
      "4\n",
      "Buzz\n",
      "5\n",
      "Fizz\n",
      "7\n",
      "8\n",
      "Fizz\n",
      "Buzz\n",
      "10\n",
      "11\n",
      "Fizz\n",
      "13\n",
      "14\n",
      "FizzBuzz\n",
      "Buzz\n",
      "Fizz\n",
      "16\n",
      "17\n",
      "Fizz\n",
      "19\n",
      "Buzz\n",
      "20\n",
      "Fizz\n",
      "22\n",
      "23\n",
      "Fizz\n",
      "Buzz\n",
      "25\n",
      "26\n",
      "Fizz\n",
      "28\n",
      "29\n",
      "FizzBuzz\n",
      "Buzz\n",
      "Fizz\n",
      "31\n",
      "32\n",
      "Fizz\n",
      "34\n",
      "Buzz\n",
      "35\n",
      "Fizz\n",
      "37\n",
      "38\n",
      "Fizz\n",
      "Buzz\n",
      "40\n",
      "41\n",
      "Fizz\n",
      "43\n",
      "44\n",
      "FizzBuzz\n",
      "Buzz\n",
      "Fizz\n",
      "46\n",
      "47\n",
      "Fizz\n",
      "49\n",
      "Buzz\n",
      "50\n",
      "Fizz\n",
      "52\n",
      "53\n",
      "Fizz\n",
      "Buzz\n",
      "55\n",
      "56\n",
      "Fizz\n",
      "58\n",
      "59\n",
      "FizzBuzz\n",
      "Buzz\n",
      "Fizz\n",
      "61\n",
      "62\n",
      "Fizz\n",
      "64\n",
      "Buzz\n",
      "65\n",
      "Fizz\n",
      "67\n",
      "68\n",
      "Fizz\n",
      "Buzz\n",
      "70\n",
      "71\n",
      "Fizz\n",
      "73\n",
      "74\n",
      "FizzBuzz\n",
      "Buzz\n",
      "Fizz\n",
      "76\n",
      "77\n",
      "Fizz\n",
      "79\n",
      "Buzz\n",
      "80\n",
      "Fizz\n",
      "82\n",
      "83\n",
      "Fizz\n",
      "Buzz\n",
      "85\n",
      "86\n",
      "Fizz\n",
      "88\n",
      "89\n",
      "FizzBuzz\n",
      "Buzz\n",
      "Fizz\n",
      "91\n",
      "92\n",
      "Fizz\n",
      "94\n",
      "Buzz\n",
      "95\n",
      "Fizz\n",
      "97\n",
      "98\n",
      "Fizz\n",
      "Buzz\n",
      "100\n"
     ]
    }
   ],
   "source": [
    "for i in range(1, 101):\n",
    "    if i % 15 == 0:\n",
    "        print('FizzBuzz')\n",
    "    if i % 5 == 0:\n",
    "        print('Buzz')\n",
    "    if i % 3 == 0:\n",
    "        print('Fizz')\n",
    "    else:\n",
    "        print(i)\n",
    "    \n",
    "    '''\n",
    "    if i % 5 == 0 and i % 3 == 0:\n",
    "        print('FizzBuzz')\n",
    "    if i % 3 == 0:\n",
    "        print('Fizz')\n",
    "    if i % 5 == 0:\n",
    "        print('Buzz')\n",
    "    else:\n",
    "        print(i)\n",
    "    '''"
   ]
  },
  {
   "cell_type": "markdown",
   "metadata": {},
   "source": [
    "# 4. Display a table of powers.\n",
    "\n",
    "- Prompt the user to enter an integer\n",
    "- Display a table of squares and cubes from 1 to the value entered\n",
    "- Ask if the user wants to continue\n",
    "- Assume that the user will enter valid data\n",
    "- Only continue if the user agrees to\n",
    "\n",
    "**Example:**\n",
    "<pre>\n",
    "What number would you like to go up to? 5\n",
    "\n",
    "Here is your table!\n",
    "\n",
    "number | squared | cubed\n",
    "------ | ------- | -----\n",
    "1      | 1       | 1\n",
    "2      | 4       | 8\n",
    "3      | 9       | 27\n",
    "4      | 16      | 64\n",
    "5      | 25      | 125</pre>"
   ]
  },
  {
   "cell_type": "code",
   "execution_count": null,
   "metadata": {},
   "outputs": [
    {
     "name": "stdout",
     "output_type": "stream",
     "text": [
      "Here is your table!\n",
      " \n",
      " number | squared |  cubed \n",
      "------- | ------- | -------\n",
      "1       | 1       | 1      \n",
      "2       | 4       | 8      \n",
      "3       | 9       | 27     \n",
      "4       | 16      | 64     \n",
      "5       | 25      | 125    \n",
      "6       | 36      | 216    \n",
      "7       | 49      | 343    \n",
      "8       | 64      | 512    \n",
      "9       | 81      | 729    \n",
      "Here is your table!\n",
      " \n",
      " number | squared |  cubed \n",
      "------- | ------- | -------\n",
      "1       | 1       | 1      \n",
      "2       | 4       | 8      \n",
      "3       | 9       | 27     \n",
      "4       | 16      | 64     \n",
      "5       | 25      | 125    \n",
      "6       | 36      | 216    \n",
      "7       | 49      | 343    \n",
      "8       | 64      | 512    \n",
      "9       | 81      | 729    \n",
      "10      | 100     | 1000   \n",
      "11      | 121     | 1331   \n",
      "12      | 144     | 1728   \n",
      "13      | 169     | 2197   \n",
      "14      | 196     | 2744   \n",
      "15      | 225     | 3375   \n"
     ]
    }
   ],
   "source": [
    "while True:             \n",
    "    # Needs a \"while True:\" so it will repeatedly ask\n",
    "    num = int(input(\"What number would you like to go up to? \"))\n",
    "    print(\"Here is your table!\")\n",
    "    print(\" \")\n",
    "    print(\" number | squared |  cubed \")\n",
    "    print(\"------- | ------- | -------\")    \n",
    "    # This will only support 7 digit numbers\n",
    "    for i in range(1, num + 1):\n",
    "        print(f\"{i:<7} | {i ** 2:<7} | {i ** 3:<7}\")\n",
    "# The first expression, `i:<7`, specifies that the value of `i` should be left-aligned and take up 7 characters of space. \n",
    "# This ensures that the table is properly aligned and that each row has the same width.\n",
    "# You can also manually put spaces into the string output (like in the number,squared, and cubed print function)\n",
    "    answer = input(\"Do you want to continue? (y/n) \")      \n",
    "    # prompts for y or n, since we used .lower, it isn't case sensitive\n",
    "    if answer.lower() != \"y\":\n",
    "        break                 \n",
    "    # anything other than y will break the loop\n",
    "    \n",
    "    \n",
    "\n"
   ]
  },
  {
   "cell_type": "code",
   "execution_count": 81,
   "metadata": {},
   "outputs": [
    {
     "name": "stdout",
     "output_type": "stream",
     "text": [
      "Here is your table!\n",
      " \n",
      "  Number    Squared    Cubed\n",
      "--------  ---------  -------\n",
      "       1          1        1\n",
      "       2          4        8\n",
      "       3          9       27\n",
      "       4         16       64\n",
      "       5         25      125\n",
      "       6         36      216\n",
      "       7         49      343\n",
      "       8         64      512\n",
      "       9         81      729\n"
     ]
    }
   ],
   "source": [
    "# Same as above using tabulate\n",
    "\n",
    "# Import the tabulate module, which provides a way to display data in a table format\n",
    "from tabulate import tabulate\n",
    "\n",
    "# Start an infinite loop that will continue until the user chooses to exit\n",
    "while True:             \n",
    "    # Prompt the user to enter a number and store the result in the variable num\n",
    "    num = int(input(\"What number would you like to go up to? \"))\n",
    "    # Print a message to indicate that the table is being generated\n",
    "    print(\"Here is your table!\")\n",
    "    # Print a blank line for formatting purposes\n",
    "    print(\" \")\n",
    "    # Create an empty list called table\n",
    "    table = []\n",
    "    # Use a for loop to generate a list of lists containing the numbers, squares, and cubes of the numbers from 1 to num\n",
    "    for i in range(1, num + 1):\n",
    "        table.append([i, i ** 2, i ** 3])\n",
    "    # Use the tabulate function to display the table in a formatted format with headers\n",
    "    print(tabulate(table, headers=['Number', 'Squared', 'Cubed']))\n",
    "    # Prompt the user to enter whether they want to continue or not\n",
    "    answer = input(\"Do you want to continue? (y/n) \")      \n",
    "    # If the user enters anything other than \"y\", exit the loop and end the program\n",
    "    if answer.lower() != \"y\":\n",
    "        break\n"
   ]
  },
  {
   "cell_type": "markdown",
   "metadata": {},
   "source": [
    "# 5. Convert given number grades into letter grades.\n",
    "\n",
    "- Prompt the user for a numerical grade from 0 to 100\n",
    "- Display the corresponding letter grade\n",
    "- Prompt the user to continue\n",
    "- Assume that the user will enter valid integers for the grades\n",
    "- The application should only continue if the user agrees to\n",
    "\n",
    "<pre> \n",
    "Grade Ranges:\n",
    "\n",
    "A : 100 - 88\n",
    "B : 87 - 80\n",
    "C : 79 - 67\n",
    "D : 66 - 60\n",
    "F : 59 - 0 </pre>"
   ]
  },
  {
   "cell_type": "code",
   "execution_count": null,
   "metadata": {},
   "outputs": [
    {
     "name": "stdout",
     "output_type": "stream",
     "text": [
      "60 is a D.\n",
      "66 is a D.\n"
     ]
    }
   ],
   "source": [
    "while True:\n",
    "    x = int(input('What did they score out of 100?'))\n",
    "\n",
    "    if x <= 100 and x >= 88:\n",
    "        print(f'{x} is an A.')\n",
    "    elif x <= 87 and x >= 80:\n",
    "        print(f'{x} is a B.')\n",
    "    elif x <= 79 and x >= 67:\n",
    "        print(f'{x} is a C.')\n",
    "    elif x <= 66 and x >= 60:\n",
    "        print(f'{x} is a D.')\n",
    "    else:\n",
    "        print(f'{x} is an F.')\n",
    "    answer = input(\"Do you want to continue? (y/n) \")      \n",
    "    # prompts for y or n, since we used .lower, it isn't case sensitive\n",
    "    if answer.lower() != \"y\":\n",
    "        break"
   ]
  },
  {
   "cell_type": "markdown",
   "metadata": {},
   "source": [
    "# 6. Dictionaries\n",
    "\n",
    "- Create a list of dictionaries where each dictionary represents a book that you have read. Each dictionary in the list should have the keys title, author, and genre. Loop through the list and print out information about each book.\n",
    "\n",
    "    - Prompt the user to enter a genre, then loop through your books list and print out the titles of all the books in that genre."
   ]
  },
  {
   "cell_type": "code",
   "execution_count": null,
   "metadata": {},
   "outputs": [
    {
     "name": "stdout",
     "output_type": "stream",
     "text": [
      "The Millionaire Next Door by Thomas J. Stanley (Finance)\n",
      "Rich Dad Poor Dad by Robert Kiyosaki (Finance)\n",
      "The Simple Path to Wealth by J.L. Collins (Finance)\n",
      "The Intelligent Investor by Benjamin Graham (Finance)\n",
      "Born to Run by Christopher McDougall (Biography)\n",
      " \n",
      "Books in the lfm;emf genre:\n",
      "No books in that genre.\n"
     ]
    }
   ],
   "source": [
    "# Create a list of dictionaries representing books\n",
    "books = [\n",
    "    {\"title\": \"The Millionaire Next Door\", \"author\": \"Thomas J. Stanley\", \"genre\": \"Finance\"},\n",
    "    {\"title\": \"Rich Dad Poor Dad\", \"author\": \"Robert Kiyosaki\", \"genre\": \"Finance\"},\n",
    "    {\"title\": \"The Simple Path to Wealth\", \"author\": \"J.L. Collins\", \"genre\": \"Finance\"},\n",
    "    {\"title\": \"The Intelligent Investor\", \"author\": \"Benjamin Graham\", \"genre\": \"Finance\"},\n",
    "    {\"title\": \"Born to Run\", \"author\": \"Christopher McDougall\", \"genre\": \"Biography\"},\n",
    "]\n",
    "\n",
    "# Loop through the list and print out information about each book\n",
    "for book in books:\n",
    "    print(f\"{book['title']} by {book['author']} ({book['genre']})\")\n",
    "print(' ')        \n",
    "\n",
    "# Prompt the user to enter a genre and print out the titles of all the books in that genre\n",
    "input_genre = input(\"Enter a genre: \")\n",
    "print(f\"Books in the {input_genre} genre:\")\n",
    "for book in books:\n",
    "    if book[\"genre\"] == input_genre:\n",
    "        print(book[\"title\"])\n",
    "    else:\n",
    "        print('No books in that genre.')\n",
    "        break\n",
    "    #elif input_genre != book[\"genre\"]:\n",
    "        #print('No books in that genre.')\n",
    "        #break"
   ]
  },
  {
   "cell_type": "markdown",
   "metadata": {},
   "source": [
    "# Bonus Exercises"
   ]
  },
  {
   "cell_type": "markdown",
   "metadata": {},
   "source": [
    "- For your Power of Tables exercise, research python's format string specifiers to align the table"
   ]
  },
  {
   "cell_type": "code",
   "execution_count": null,
   "metadata": {},
   "outputs": [
    {
     "name": "stdout",
     "output_type": "stream",
     "text": [
      "Here is your table!\n",
      " \n",
      "number | squared | cubed\n",
      "------ | ------- | -----\n",
      "1   | 1       | 1    \n",
      "2   | 4       | 8    \n",
      "3   | 9       | 27   \n",
      "4   | 16      | 64   \n",
      "5   | 25      | 125  \n"
     ]
    }
   ],
   "source": [
    "while True:             # Needs a \"while True:\" so it will repeatedly ask\n",
    "    num = int(input(\"What number would you like to go up to? \"))\n",
    "    print(\"Here is your table!\")\n",
    "    print(\" \")\n",
    "    print(\"number | squared | cubed\")\n",
    "    print(\"------ | ------- | -----\")    # This will only support 5 digit numbers\n",
    "    for i in range(1, num + 1):\n",
    "        print(f\"{i:<6} | {i ** 2:<7} | {i ** 3:<5}\")  # Uses f-strings to format the output, \":<6\" will format the placement of the variable\n",
    "    answer = input(\"Do you want to continue? (y/n) \")      # prompts for y or n, since we used .lower, it isn't case sensitive\n",
    "    if answer.lower() != \"y\":\n",
    "        break                 # anything other than y will break the loop"
   ]
  },
  {
   "cell_type": "markdown",
   "metadata": {},
   "source": [
    "- For your Number Grade to Letter Grade exercise, edit your grade ranges to include pluses and minuses (ex: 99-100 = A+)"
   ]
  },
  {
   "cell_type": "code",
   "execution_count": null,
   "metadata": {},
   "outputs": [
    {
     "name": "stdout",
     "output_type": "stream",
     "text": [
      "32 is an F.\n",
      "74 is a C.\n",
      "98 is an A+.\n"
     ]
    }
   ],
   "source": [
    "while True:\n",
    "    x = int(input('What did they score out of 100?'))\n",
    "\n",
    "    if x <= 100 and x >= 97:\n",
    "        print(f'{x} is an A+.')\n",
    "    elif x <= 96 and x >= 93:\n",
    "        print(f'{x} is an A .')    \n",
    "    elif x <= 92 and x >= 90:\n",
    "        print(f'{x} is a A-.')\n",
    "    elif x <= 89 and x >= 87:\n",
    "        print(f'{x} is a B+.')\n",
    "    elif x <= 86 and x >= 83:\n",
    "        print(f'{x} is an B.')\n",
    "    elif x <= 82 and x >= 80:\n",
    "        print(f'{x} is a B-.')\n",
    "    elif x <= 79 and x >= 77:\n",
    "        print(f'{x} is a C+.')\n",
    "    elif x <= 76 and x >= 73:\n",
    "        print(f'{x} is a C.')\n",
    "    elif x <= 72 and x >= 70:\n",
    "        print(f'{x} is an C-.')\n",
    "    elif x <= 69 and x >= 67:\n",
    "        print(f'{x} is a D+.')\n",
    "    elif x <= 66 and x >= 65:\n",
    "        print(f'{x} is a D.')\n",
    "    elif x < 65:\n",
    "        print(f'{x} is an F.')\n",
    "    else:\n",
    "        print(f'Please input a number from 1 - 100.')\n",
    "    answer = input(\"Do you want to continue? (y/n) \")      # prompts for y or n, since we used .lower, it isn't case sensitive\n",
    "    if answer.lower() != \"y\":\n",
    "        break"
   ]
  },
  {
   "cell_type": "markdown",
   "metadata": {},
   "source": [
    "- For practicing with list comprehensions, work through 17 [List Comprehension Exercises](https://gist.github.com/ryanorsinger/f7d7c1dd6a328730c04f3dc5c5c69f3a)"
   ]
  },
  {
   "cell_type": "markdown",
   "metadata": {},
   "source": [
    "- For even more practice with all your Python tools together, work through [20 Python Data Structure Manipulation Exercises](https://gist.github.com/zgulde/2043cba6072fe5b55b272513ae575577)"
   ]
  },
  {
   "cell_type": "markdown",
   "metadata": {},
   "source": [
    "---\n",
    "\n",
    "# Control Structures Notes\n",
    "\n",
    "## if statement\n",
    "- ends in a colon\n",
    "- if this, then that\n",
    "- if needs a boolean statement\n",
    "- once it hits first true, it stops\n",
    "- nested statements (indented) matter\n",
    "\n",
    "```\n",
    "it_is_raining = False\n",
    "\n",
    "if it_is_raining:\n",
    "    print('Better bring an umbrella!')\n",
    "else:\n",
    "    print('Looks like a nice, sunny day!')\n",
    "```\n",
    "\n",
    "## elif statement\n",
    "- will run until one of the if/elif render true, otherwise, it will run the else statement\n",
    "- when an if statement is true, it will keep going\n",
    "- when an elif statement is true, it will stop\n",
    "\n",
    "```\n",
    "input = input('Do you like your coffee light, medium, or dark?)\n",
    "\n",
    "if input == 'dark':\n",
    "    print('I love a good dark roast!')\n",
    "elif input == 'medium':\n",
    "    print('Middle of the road, huh?')\n",
    "elif input == 'light':\n",
    "    print('Light roast has the most caffeine!')\n",
    "else:\n",
    "    print('How about some tea then?')\n",
    "```\n",
    "\n",
    "## loop statements\n",
    "- i is the variable in the loop\n",
    "- itr is the whole loop?\n",
    "\n",
    "\n",
    "### for loop\n",
    "- usually does until completed\n",
    "\n",
    "```\n",
    "for letter in 'abcde':\n",
    "    print(letter)\n",
    "```\n",
    "\n",
    "- can include if statements\n",
    "```\n",
    "for letter in 'abcde':\n",
    "    if letter == 'b':\n",
    "        continue    # continue will continue past\n",
    "    print(letter)\n",
    "```\n",
    "\n",
    "### while loop\n",
    "- can run into infinite loop if nothing changes and all true\n",
    "- if the thing is true; do the action\n",
    "- as long as the action is true; keep doing the action\n",
    "- if the thing is false; stop the action\n",
    "\n",
    "```\n",
    "i = 5\n",
    "while i <= 10:\n",
    "    print(i)\n",
    "    i += 1\n",
    "```"
   ]
  },
  {
   "cell_type": "code",
   "execution_count": null,
   "metadata": {},
   "outputs": [],
   "source": []
  },
  {
   "cell_type": "markdown",
   "metadata": {},
   "source": [
    "# Random notes:\n",
    "\n",
    "(x += 1) and (x = x + 1) are the same thing"
   ]
  },
  {
   "cell_type": "code",
   "execution_count": null,
   "metadata": {},
   "outputs": [
    {
     "name": "stdout",
     "output_type": "stream",
     "text": [
      "2\n",
      "still going...\n",
      "3\n",
      "still going...\n",
      "4\n",
      "still going...\n",
      "5\n",
      "still going...\n",
      "6\n",
      "still going...\n",
      "7\n",
      "still going...\n",
      "8\n",
      "still going...\n",
      "9\n",
      "still going...\n",
      "10\n",
      "still going...\n",
      "11\n",
      "We're done\n"
     ]
    }
   ],
   "source": [
    "x = 1\n",
    "\n",
    "for num in range(10):\n",
    "    x += 1\n",
    "    print(x)\n",
    "    if x < 11:\n",
    "        print('still going...')\n",
    "    else:\n",
    "        print(\"We're done\")"
   ]
  },
  {
   "cell_type": "markdown",
   "metadata": {},
   "source": []
  },
  {
   "cell_type": "code",
   "execution_count": null,
   "metadata": {},
   "outputs": [
    {
     "name": "stdout",
     "output_type": "stream",
     "text": [
      "I love a good dark roast!\n"
     ]
    }
   ],
   "source": [
    "coffee_type = input(\"How do you like your coffee? Dark, medium, or light? \").lower()\n",
    "\n",
    "if coffee_type == 'dark':\n",
    "    print('I love a good dark roast!')\n",
    "elif coffee_type == 'medium':\n",
    "    print('Middle of the road, huh?')\n",
    "elif coffee_type == 'light':\n",
    "    print('Light roast has the most caffeine!')\n",
    "else:\n",
    "    print('How about some tea then?')\n"
   ]
  },
  {
   "cell_type": "code",
   "execution_count": null,
   "metadata": {},
   "outputs": [],
   "source": []
  },
  {
   "cell_type": "code",
   "execution_count": null,
   "metadata": {},
   "outputs": [
    {
     "name": "stdout",
     "output_type": "stream",
     "text": [
      "Books in the Finance genre:\n",
      "The Millionaire Next Door\n",
      "Rich Dad Poor Dad\n",
      "The Simple Path to Wealth\n",
      "The Intelligent Investor\n",
      "NA\n"
     ]
    }
   ],
   "source": [
    "# Create a list of dictionaries representing books\n",
    "books = [\n",
    "    {\"title\": \"The Millionaire Next Door\", \"author\": \"Thomas J. Stanley\", \"genre\": \"Finance\"},\n",
    "    {\"title\": \"Rich Dad Poor Dad\", \"author\": \"Robert Kiyosaki\", \"genre\": \"Finance\"},\n",
    "    {\"title\": \"The Simple Path to Wealth\", \"author\": \"J.L. Collins\", \"genre\": \"Finance\"},\n",
    "    {\"title\": \"The Intelligent Investor\", \"author\": \"Benjamin Graham\", \"genre\": \"Finance\"},\n",
    "    {\"title\": \"Born to Run\", \"author\": \"Christopher McDougall\", \"genre\": \"Biography\"},\n",
    "]\n",
    "\n",
    "choice = input('Pick a genre.')\n",
    "print(f'Books in the {choice} genre:')\n",
    "for book in books:\n",
    "    if book['genre'] == choice:\n",
    "        print(book['title'])\n",
    "    else:\n",
    "        print('NA')\n",
    "\n",
    "# Loop through the list and print out information about each book\n",
    "#for book in books:\n",
    "    print(f\"{book['title']} by {book['author']} ({book['genre']})\")\n",
    "print(' ')        \n",
    "\n",
    "# Prompt the user to enter a genre and print out the titles of all the books in that genre\n",
    "input_genre = input(\"Enter a genre: \")\n",
    "print(f\"Books in the {input_genre} genre:\")\n",
    "for book in books:\n",
    "    if book[\"genre\"] == input_genre:\n",
    "        print(book[\"title\"])\n",
    "    else:\n",
    "        print('No books in that genre.')\n",
    "        break\n",
    "    elif input_genre != book[\"genre\"]:\n",
    "        print('No books in that genre.')\n",
    "        break"
   ]
  },
  {
   "cell_type": "code",
   "execution_count": null,
   "metadata": {},
   "outputs": [],
   "source": []
  }
 ],
 "metadata": {
  "kernelspec": {
   "display_name": "Python 3",
   "language": "python",
   "name": "python3"
  },
  "language_info": {
   "codemirror_mode": {
    "name": "ipython",
    "version": 3
   },
   "file_extension": ".py",
   "mimetype": "text/x-python",
   "name": "python",
   "nbconvert_exporter": "python",
   "pygments_lexer": "ipython3",
   "version": "3.11.3"
  },
  "orig_nbformat": 4
 },
 "nbformat": 4,
 "nbformat_minor": 2
}
