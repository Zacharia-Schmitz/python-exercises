{
 "cells": [
  {
   "cell_type": "markdown",
   "metadata": {},
   "source": [
    "### 1. Identify the following data types:"
   ]
  },
  {
   "cell_type": "code",
   "execution_count": 1,
   "metadata": {},
   "outputs": [
    {
     "data": {
      "text/plain": [
       "float"
      ]
     },
     "execution_count": 1,
     "metadata": {},
     "output_type": "execute_result"
    }
   ],
   "source": [
    "type(99.9)\n",
    "\n",
    "# float"
   ]
  },
  {
   "cell_type": "code",
   "execution_count": 2,
   "metadata": {},
   "outputs": [
    {
     "data": {
      "text/plain": [
       "str"
      ]
     },
     "execution_count": 2,
     "metadata": {},
     "output_type": "execute_result"
    }
   ],
   "source": [
    "type(\"False\")\n",
    "\n",
    "# str"
   ]
  },
  {
   "cell_type": "code",
   "execution_count": 3,
   "metadata": {},
   "outputs": [
    {
     "data": {
      "text/plain": [
       "bool"
      ]
     },
     "execution_count": 3,
     "metadata": {},
     "output_type": "execute_result"
    }
   ],
   "source": [
    "type(False)\n",
    "\n",
    "# bool"
   ]
  },
  {
   "cell_type": "code",
   "execution_count": 4,
   "metadata": {},
   "outputs": [
    {
     "data": {
      "text/plain": [
       "str"
      ]
     },
     "execution_count": 4,
     "metadata": {},
     "output_type": "execute_result"
    }
   ],
   "source": [
    "type('0')\n",
    "\n",
    "# str"
   ]
  },
  {
   "cell_type": "code",
   "execution_count": 5,
   "metadata": {},
   "outputs": [
    {
     "data": {
      "text/plain": [
       "bool"
      ]
     },
     "execution_count": 5,
     "metadata": {},
     "output_type": "execute_result"
    }
   ],
   "source": [
    "type(True)\n",
    "\n",
    "# bool"
   ]
  },
  {
   "cell_type": "code",
   "execution_count": 6,
   "metadata": {},
   "outputs": [
    {
     "data": {
      "text/plain": [
       "str"
      ]
     },
     "execution_count": 6,
     "metadata": {},
     "output_type": "execute_result"
    }
   ],
   "source": [
    "type('True')\n",
    "\n",
    "# str"
   ]
  },
  {
   "cell_type": "code",
   "execution_count": 7,
   "metadata": {},
   "outputs": [
    {
     "data": {
      "text/plain": [
       "dict"
      ]
     },
     "execution_count": 7,
     "metadata": {},
     "output_type": "execute_result"
    }
   ],
   "source": [
    "type({})\n",
    "\n",
    "# dict"
   ]
  },
  {
   "cell_type": "code",
   "execution_count": 8,
   "metadata": {},
   "outputs": [
    {
     "data": {
      "text/plain": [
       "dict"
      ]
     },
     "execution_count": 8,
     "metadata": {},
     "output_type": "execute_result"
    }
   ],
   "source": [
    "type({'a': []})\n",
    "\n",
    "# dict"
   ]
  },
  {
   "cell_type": "markdown",
   "metadata": {},
   "source": [
    "### 2. What data type would best represent the following?\n",
    "\n",
    "A term or phrase typed into a search box\n",
    "- string\n",
    "\n",
    "Whether or not a user is logged in\n",
    "- boolean\n",
    "\n",
    "A discount amount to apply to a user's shopping cart\n",
    "- float\n",
    "\n",
    "Whether or not a coupon code is valid\n",
    "- boolean\n",
    "\n",
    "An email address typed into a registration form\n",
    "- string\n",
    "\n",
    "The price of a product\n",
    "- float\n",
    "\n",
    "The email addresses collected from a registration form\n",
    "- list\n",
    "\n",
    "Information about applicants to Codeup's data science program\n",
    "- dictionary"
   ]
  },
  {
   "cell_type": "markdown",
   "metadata": {},
   "source": [
    "### 3. Read and predict the following expressions results. Then run them in a Python REPL.\n",
    "\n",
    "'1' + 2\n",
    " - Output: TypeError, cannot concatenate str and str, not int to str\n",
    "\n",
    "6 % 4\n",
    "- 2\n",
    "\n",
    "type(6 % 4)\n",
    "- int\n",
    "\n",
    "type(type(6 % 4))\n",
    "- type\n",
    "\n",
    "'3 + 4 is ' + 3 + 4\n",
    "- TypeError: can only concatenate str (not \"int\") to str\n",
    "\n",
    "0 < 0\n",
    "- False\n",
    "\n",
    "'False' == False\n",
    "- False\n",
    "\n",
    "True == 'True'\n",
    "- False\n",
    "\n",
    "5 >= -5\n",
    "- True\n",
    "\n",
    "True or \"42\"\n",
    "- True\n",
    "\n",
    "6 % 5\n",
    "- 1\n",
    "\n",
    "5 < 4 and 1 == 1\n",
    "- False\n",
    "\n",
    "'codeup' == 'codeup' and 'codeup' == 'Codeup'\n",
    "- False\n",
    "\n",
    "4 >= 0 and 1 !== '1'\n",
    "- SyntaxError: invalid syntax\n",
    "\n",
    "6 % 3 == 0\n",
    "- True\n",
    "\n",
    "5 % 2 != 0\n",
    "- True\n",
    "\n",
    "[1] + 2\n",
    "- TypeError: can only concatenate list (not \"int\") to list\n",
    "\n",
    "[1] + [2]\n",
    "- [1, 2]\n",
    "\n",
    "[1] * 2\n",
    "- [1, 1]\n",
    "\n",
    "[1] * [2]\n",
    "- TypeError: can't multiply sequence by non-int of type 'list'\n",
    "\n",
    "[] + [] == []\n",
    "- True\n",
    "\n",
    "{} + {}\n",
    "- TypeError: unsupported operand type(s) for +: 'dict' and 'dict'"
   ]
  },
  {
   "cell_type": "markdown",
   "metadata": {},
   "source": [
    "### 4. Describe the following scenariou. You will need to create and assign variables and use operators."
   ]
  },
  {
   "cell_type": "markdown",
   "metadata": {},
   "source": [
    "### 5. You have rented some movies for your kids:"
   ]
  },
  {
   "cell_type": "code",
   "execution_count": 9,
   "metadata": {},
   "outputs": [
    {
     "name": "stdout",
     "output_type": "stream",
     "text": [
      "$27\n"
     ]
    }
   ],
   "source": [
    "# The Little Mermaid (for 3 days)\n",
    "the_little_mermaid = 3\n",
    "\n",
    "# Brother Bear (for 5 days)\n",
    "brother_bear = 5\n",
    "\n",
    "# Hercules (for 1 day)\n",
    "hercules = 1\n",
    "\n",
    "# If the dauly fee is 3 dollars, how much will you have to pay?\n",
    "\n",
    "daily_fee = 3\n",
    "\n",
    "total_cost = (the_little_mermaid * daily_fee) + (brother_bear * daily_fee) + (hercules * daily_fee)\n",
    "\n",
    "# Print total cost with a dollar sign, the f before the string indicates that it is a formatted string (f-string) which allows expressions to be evaluated within the string.\n",
    "print(f\"${total_cost}\")\n"
   ]
  },
  {
   "cell_type": "markdown",
   "metadata": {},
   "source": [
    "### 6. Suppose you're working as a contractor for 3 companies: Google, Amazon and Facebook."
   ]
  },
  {
   "cell_type": "code",
   "execution_count": 10,
   "metadata": {},
   "outputs": [
    {
     "name": "stdout",
     "output_type": "stream",
     "text": [
      "$7420\n"
     ]
    }
   ],
   "source": [
    "# They pay you the following hourly rates:\n",
    "google = 400\n",
    "amazon = 380\n",
    "facebook = 350\n",
    "\n",
    "# Hours worked:\n",
    "gh = 6\n",
    "ah = 4\n",
    "fh = 10\n",
    "\n",
    "# This week you worked 10 hours at Facebook, 6 hours at Google and 4 hours at Amazon. How much will you make?\n",
    "\n",
    "weekly_pay = (google * gh) + (amazon * ah) + (facebook * fh)\n",
    "\n",
    "print(f\"${weekly_pay}\")"
   ]
  },
  {
   "cell_type": "markdown",
   "metadata": {},
   "source": [
    "### 7. A student can be enrolled to a class only if the class is not full and the class schedule does not conflict with her current schedule."
   ]
  },
  {
   "cell_type": "code",
   "execution_count": 11,
   "metadata": {},
   "outputs": [
    {
     "name": "stdout",
     "output_type": "stream",
     "text": [
      "Student can be enrolled in the class.\n"
     ]
    }
   ],
   "source": [
    "# A student can be enrolled to a class only if the class is not full and the class schedule does not conflict with her current schedule.\n",
    "\n",
    "class_not_full = True\n",
    "schedule_conflict = False\n",
    "\n",
    "if class_not_full and not schedule_conflict:\n",
    "    print(\"Student can be enrolled in the class.\")\n",
    "else:\n",
    "    print(\"Student cannot be enrolled in the class.\")"
   ]
  },
  {
   "cell_type": "markdown",
   "metadata": {},
   "source": [
    "### 8. A product offer can be applied only if people buy more than 2 items, and the offer has not expired. Premium members do not need to buy a specific amount of products."
   ]
  },
  {
   "cell_type": "code",
   "execution_count": 12,
   "metadata": {},
   "outputs": [
    {
     "name": "stdout",
     "output_type": "stream",
     "text": [
      "Offer applied.\n"
     ]
    }
   ],
   "source": [
    "items_purchased = 3\n",
    "offer_expired = False\n",
    "premium_member = False\n",
    "\n",
    "if (premium_member or items_purchased > 2) and not offer_expired:\n",
    "        print(\"Offer applied.\")\n",
    "else:\n",
    "    print(\"Offer not applied.\")\n"
   ]
  },
  {
   "cell_type": "markdown",
   "metadata": {},
   "source": [
    "### 9. Use the following code to follow the instructions below:\n",
    "\n",
    "    username = 'codeup'\n",
    "    password = 'notastrongpassword'\n",
    "\n",
    "Create a variable that holds a boolean value for each of the following conditions:\n",
    "\n",
    "- The password must be at least 5 characters\n",
    "- The username must be no more than 20 characters\n",
    "- The password must not be the same as the username\n",
    "- Bonus Neither the username or password can start or end with whitespace"
   ]
  },
  {
   "cell_type": "code",
   "execution_count": 13,
   "metadata": {},
   "outputs": [
    {
     "name": "stdout",
     "output_type": "stream",
     "text": [
      "Account created.\n"
     ]
    }
   ],
   "source": [
    "username = 'codeup'\n",
    "password = 'notastrongpassword'\n",
    "\n",
    "# Check password length\n",
    "valid_password_length = len(password) >= 5\n",
    "\n",
    "# Check username length\n",
    "valid_username_length = len(username) <= 20\n",
    "\n",
    "# Check password and username are not the same\n",
    "valid_password_username = password != username\n",
    "\n",
    "# Check password and username do not start or end with whitespace\n",
    "valid_whitespace = not username.startswith(\" \") or password.startswith(\" \") or username.endswith(\" \") or password.endswith(\" \")\n",
    "\n",
    "# Print results\n",
    "if valid_password_length and valid_password_username and valid_password_username and valid_whitespace:\n",
    "    print('Account created.')\n",
    "else:\n",
    "    print('Not strong enough credentials. Try again.')"
   ]
  },
  {
   "cell_type": "markdown",
   "metadata": {},
   "source": [
    "---\n",
    "\n",
    "**Python Lesson Notes**\n",
    "\n",
    "- snake_case means all lowercase with underscores for spaces.\n",
    "\n",
    "- functions are made using def\n",
    "\n",
    "- NoneType as a data type is the absence of a type\n",
    "\n",
    "- type() checks the data type\n",
    "\n",
    "- != is not equal while == is equal in a formula\n",
    "\n",
    "- Strings cannot be added, but they can be multiplied\n",
    "\n",
    "- dir() will list all used variables in this session\n",
    "\n",
    "- **FLOATS HAVE DECIMALS**, integers do not\n",
    "\n",
    "- range(1,10) will generate a list, starting at 1, and ending at **INDEX** 10, which would be number 9.\n",
    "\n",
    "- add items with list_name.append(*thing added here*)\n",
    "\n",
    "- remove items with list_name.pop(*thing to remove here*)"
   ]
  },
  {
   "cell_type": "code",
   "execution_count": 14,
   "metadata": {},
   "outputs": [
    {
     "data": {
      "text/plain": [
       "'apple'"
      ]
     },
     "execution_count": 14,
     "metadata": {},
     "output_type": "execute_result"
    }
   ],
   "source": [
    "about_me = {'fruit': 'apple', 'number': 9}\n",
    "about_me['fruit']"
   ]
  }
 ],
 "metadata": {
  "kernelspec": {
   "display_name": "Python 3",
   "language": "python",
   "name": "python3"
  },
  "language_info": {
   "codemirror_mode": {
    "name": "ipython",
    "version": 3
   },
   "file_extension": ".py",
   "mimetype": "text/x-python",
   "name": "python",
   "nbconvert_exporter": "python",
   "pygments_lexer": "ipython3",
   "version": "3.11.4"
  },
  "orig_nbformat": 4
 },
 "nbformat": 4,
 "nbformat_minor": 2
}
