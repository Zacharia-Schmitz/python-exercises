{
 "cells": [
  {
   "cell_type": "markdown",
   "metadata": {},
   "source": [
    "### 1. Import and test 3 of the functions from your functions exercise file. Import each function in a different way:"
   ]
  },
  {
   "cell_type": "code",
   "execution_count": 118,
   "metadata": {},
   "outputs": [],
   "source": [
    "# a. Run an interactive python session and import the module. Call the is_vowel function using the . syntax.\n",
    "\n",
    "import functions_exercises\n",
    "\n",
    "assert functions_exercises.is_vowel('a') == True\n",
    "assert functions_exercises.is_vowel('b') == False"
   ]
  },
  {
   "cell_type": "code",
   "execution_count": 119,
   "metadata": {},
   "outputs": [],
   "source": [
    "# b. Create a file named import_exercises.py. Within this file, use from to import the calculate_tip function directly. \n",
    "# Call this function with values you choose and print the result.\n",
    "\n",
    "# Opened a .py file and ran:\n",
    "\n",
    "import functions_exercises as fe"
   ]
  },
  {
   "cell_type": "code",
   "execution_count": 120,
   "metadata": {},
   "outputs": [
    {
     "name": "stdout",
     "output_type": "stream",
     "text": [
      "75 is a C.\n"
     ]
    }
   ],
   "source": [
    "# c. Create a jupyter notebook named import_exercises.ipynb. Use from to import the get_letter_grade function and give it an alias. Test this function in your notebook.\n",
    "\n",
    "from functions_exercises import get_letter_grade as grade\n",
    "\n",
    "x = grade(75)\n",
    "\n",
    "print(x)"
   ]
  },
  {
   "cell_type": "code",
   "execution_count": 121,
   "metadata": {},
   "outputs": [],
   "source": [
    "# Make sure your code that tests the function imports is run from the same directory that your functions exercise file is in."
   ]
  },
  {
   "cell_type": "markdown",
   "metadata": {},
   "source": [
    "### 2. Read about and use the itertools module from the python standard library to help you solve the following problems. Note: Many of these functions in this library return an object, to see the results of the function, cast this object as a list."
   ]
  },
  {
   "cell_type": "code",
   "execution_count": 122,
   "metadata": {},
   "outputs": [
    {
     "name": "stdout",
     "output_type": "stream",
     "text": [
      "[('a', 1), ('a', 2), ('a', 3), ('b', 1), ('b', 2), ('b', 3), ('c', 1), ('c', 2), ('c', 3)]\n",
      "There are 9 combinations\n"
     ]
    }
   ],
   "source": [
    "# How many different ways can you combine a single letter from \"abc\" with either 1, 2, or 3? (Long Way)\n",
    "\n",
    "import itertools\n",
    "\n",
    "# Define the letters and numbers to combine\n",
    "letters = 'abc'\n",
    "numbers = [1, 2, 3]\n",
    "\n",
    "# Generate all possible combinations using the product function\n",
    "combinations = list(itertools.product(letters, numbers))\n",
    "\n",
    "# Print the number of combinations\n",
    "print(list(combinations))\n",
    "print(f'There are {len(combinations)} combinations')\n",
    "\n",
    "# (Short Way)\n",
    "# print(len(list(itertools.product('abc', '123'))))"
   ]
  },
  {
   "cell_type": "code",
   "execution_count": 123,
   "metadata": {},
   "outputs": [
    {
     "name": "stdout",
     "output_type": "stream",
     "text": [
      "[('a', 'a'), ('a', 'b'), ('a', 'c'), ('a', 'd'), ('b', 'a'), ('b', 'b'), ('b', 'c'), ('b', 'd'), ('c', 'a'), ('c', 'b'), ('c', 'c'), ('c', 'd'), ('d', 'a'), ('d', 'b'), ('d', 'c'), ('d', 'd')]\n",
      "There are 16 combinations\n"
     ]
    }
   ],
   "source": [
    "# How many different combinations are there of 2 letters from \"abcd\"?\n",
    "\n",
    "import itertools\n",
    "\n",
    "# Define the letters and numbers to combine\n",
    "letters = 'abcd'\n",
    "letters2 = 'abcd'\n",
    "\n",
    "# Generate all possible combinations using the product function\n",
    "combinations = list(itertools.product(letters,letters2))\n",
    "\n",
    "# Print the number of combinations\n",
    "print(list(combinations))\n",
    "print(f'There are {len(combinations)} combinations')\n",
    "\n",
    "# (Short Way)\n",
    "# print(len(list(itertools.product('abcd', '1234'))))"
   ]
  },
  {
   "cell_type": "code",
   "execution_count": 124,
   "metadata": {},
   "outputs": [
    {
     "name": "stdout",
     "output_type": "stream",
     "text": [
      "[('a', 'b'), ('a', 'c'), ('a', 'd'), ('b', 'a'), ('b', 'c'), ('b', 'd'), ('c', 'a'), ('c', 'b'), ('c', 'd'), ('d', 'a'), ('d', 'b'), ('d', 'c')]\n",
      "There are 12 different permutations.\n"
     ]
    }
   ],
   "source": [
    "# How many different permutations are there of 2 letters from \"abcd\"?\n",
    "\n",
    "import itertools\n",
    "\n",
    "# Define the letters to permute\n",
    "letters = 'abcd'\n",
    "\n",
    "# Generate all possible permutations using the permutations function\n",
    "permutations = list(itertools.permutations(letters, 2))\n",
    "\n",
    "# Print the number of permutations\n",
    "print(list(permutations))\n",
    "print(f'There are {len(permutations)} different permutations.')\n",
    "\n",
    "# (Short Way)\n",
    "# print(len(list(itertools.permutations('abcd', 2))))"
   ]
  },
  {
   "cell_type": "markdown",
   "metadata": {},
   "source": [
    "### 3. Save this file as profiles.json inside of your exercises directory (right click -> save file as...).\n",
    "\n",
    "- Use the load function from the json module to open this file.\n"
   ]
  },
  {
   "cell_type": "code",
   "execution_count": 125,
   "metadata": {},
   "outputs": [],
   "source": [
    "import json\n",
    "\n",
    "# Load the JSON data from the profiles.json file\n",
    "with open('profiles.json') as f:\n",
    "    data = json.load(f)"
   ]
  },
  {
   "cell_type": "markdown",
   "metadata": {},
   "source": [
    "- Your code should produce a list of dictionaries. Using this data, write some code that calculates and outputs the following information:"
   ]
  },
  {
   "cell_type": "code",
   "execution_count": 126,
   "metadata": {},
   "outputs": [
    {
     "name": "stdout",
     "output_type": "stream",
     "text": [
      "9\n"
     ]
    },
    {
     "data": {
      "text/plain": [
       "9"
      ]
     },
     "execution_count": 126,
     "metadata": {},
     "output_type": "execute_result"
    }
   ],
   "source": [
    "# Number of active users: 9\n",
    "    \n",
    "# Initialize the active users variable\n",
    "count = 0\n",
    "\n",
    "# Iterate over the list of objects and increment the count variable for each object where isActive is True\n",
    "for obj in data:\n",
    "    if obj['isActive'] == True:\n",
    "        count += 1\n",
    "\n",
    "# Print the count of active users\n",
    "print(count)\n",
    "\n",
    "len([profile for profile in data if profile['isActive']]) # Short Way"
   ]
  },
  {
   "cell_type": "code",
   "execution_count": 127,
   "metadata": {},
   "outputs": [
    {
     "name": "stdout",
     "output_type": "stream",
     "text": [
      "10\n"
     ]
    },
    {
     "data": {
      "text/plain": [
       "10"
      ]
     },
     "execution_count": 127,
     "metadata": {},
     "output_type": "execute_result"
    }
   ],
   "source": [
    "# Number of inactive users: 10\n",
    "\n",
    "# Initialize the active users variable\n",
    "count = 0\n",
    "\n",
    "# Iterate over the list of objects and print the ones where isActive is True\n",
    "for obj in data:\n",
    "    if obj['isActive'] == False:\n",
    "        count += 1\n",
    "\n",
    "print(count)\n",
    "\n",
    "len([profile for profile in data if profile['isActive'] == False]) # Short Way"
   ]
  },
  {
   "cell_type": "code",
   "execution_count": 128,
   "metadata": {},
   "outputs": [
    {
     "name": "stdout",
     "output_type": "stream",
     "text": [
      "$52667.02\n"
     ]
    }
   ],
   "source": [
    "# Grand total of balances for all users\n",
    "\n",
    "# Initialize the balance variable\n",
    "cleaned_balance = 0\n",
    "\n",
    "# Iterate over the list of dictionaries and add up the values of the balance key\n",
    "for dirty_balance in data:\n",
    "    cleaned_balance += float(dirty_balance['balance'].replace('$', '').replace(',', ''))\n",
    "    # For each iteration of the balance field within the dictionary, it is using float to express it as a number, \n",
    "    # then using replace to remove the extra characters.\n",
    "\n",
    "# Print the sum of the balance field\n",
    "print(f'${cleaned_balance}')"
   ]
  },
  {
   "cell_type": "code",
   "execution_count": 129,
   "metadata": {},
   "outputs": [
    {
     "name": "stdout",
     "output_type": "stream",
     "text": [
      "Total Users: 19\n",
      "Total Balance: $52667.02\n",
      "Avg Balance: $2771.95\n"
     ]
    }
   ],
   "source": [
    "# Initialize the active users variable\n",
    "user_count = len(data)\n",
    "total_balance = 0\n",
    "\n",
    "# Iterate over the list of dictionaries and add up the values of the balance key\n",
    "for obj in data:\n",
    "    total_balance += float(obj['balance'].replace('$', '').replace(',', ''))\n",
    "    # For each iteration of the balance field within the dictionary, it is using float to express it as a number, \n",
    "    # then using replace to remove the extra characters.\n",
    "\n",
    "# Calculate the average balance\n",
    "average_balance = total_balance / user_count\n",
    "\n",
    "# Print the total number of users, total balance, and average balance\n",
    "print(f'Total Users: {user_count}')\n",
    "print(f'Total Balance: ${total_balance}')\n",
    "print(f'Avg Balance: ${average_balance:.2f}')\n"
   ]
  },
  {
   "cell_type": "code",
   "execution_count": 130,
   "metadata": {},
   "outputs": [
    {
     "name": "stdout",
     "output_type": "stream",
     "text": [
      "Avery Flynn, $1,214.10\n"
     ]
    }
   ],
   "source": [
    "# User with the lowest balance: Avery Flynn\n",
    "\n",
    "import json\n",
    "\n",
    "# Define a key function that extracts the value of the balance key\n",
    "def get_balance(obj):\n",
    "    \"\"\"\n",
    "    This function extracts the value of the 'balance' key from a dictionary object as a clean float.\n",
    "    \"\"\"\n",
    "    return float(obj['balance'].replace('$', '').replace(',', ''))\n",
    "\n",
    "# Load the JSON data from the profiles.json file\n",
    "with open('profiles.json') as f:\n",
    "    data = json.load(f)\n",
    "\n",
    "# Find the user with the lowest balance using the min function with the get_balance key function\n",
    "min_balance_user = min(data, key=get_balance)\n",
    "\n",
    "# Print the name and balance of the user with the lowest balance\n",
    "print(f\"{min_balance_user['name']}, {min_balance_user['balance']}\")"
   ]
  },
  {
   "cell_type": "code",
   "execution_count": 131,
   "metadata": {},
   "outputs": [
    {
     "name": "stdout",
     "output_type": "stream",
     "text": [
      "Fay Hammond, $3,919.64\n"
     ]
    }
   ],
   "source": [
    "# User with the highest balance: Fay Hammond\n",
    "\n",
    "# Find the user with the highest balance using the max function with the get_balance key function\n",
    "max_balance_user = max(data, key=get_balance)\n",
    "\n",
    "# Print the name and balance of the user with the highest balance\n",
    "print(f\"{max_balance_user['name']}, {max_balance_user['balance']}\")"
   ]
  },
  {
   "cell_type": "code",
   "execution_count": 132,
   "metadata": {},
   "outputs": [
    {
     "name": "stdout",
     "output_type": "stream",
     "text": [
      "{'strawberry': 9, 'apple': 6, 'banana': 4}\n",
      "9\n"
     ]
    }
   ],
   "source": [
    "# Most common favorite fruit: Strawberry\n",
    "\n",
    "# Create an empty dictionary to store the counts of each value\n",
    "value_counts = {}\n",
    "\n",
    "# Loop through each dictionary in the data list\n",
    "for d in data:\n",
    "    # Get the value of the favoriteFruit key\n",
    "    value = d['favoriteFruit']\n",
    "    # If the value is not already in the value_counts dictionary, add it with a count of 1\n",
    "    if value not in value_counts:\n",
    "        value_counts[value] = 1\n",
    "    # If the value is already in the value_counts dictionary, increment its count by 1\n",
    "    else:\n",
    "        value_counts[value] += 1\n",
    "\n",
    "# Find the maximum count of an occurrence\n",
    "max_count = max(value_counts.values())\n",
    "\n",
    "# Print the maximum count of an occurrence\n",
    "print(value_counts)\n",
    "print(max_count)"
   ]
  },
  {
   "cell_type": "code",
   "execution_count": 133,
   "metadata": {},
   "outputs": [
    {
     "name": "stdout",
     "output_type": "stream",
     "text": [
      "{'strawberry': 9, 'apple': 6, 'banana': 4}\n",
      "4\n"
     ]
    }
   ],
   "source": [
    "# Least most common favorite fruit: Banana\n",
    "\n",
    "# Create an empty dictionary to store the counts of each fruit\n",
    "fruit_counts = {}\n",
    "\n",
    "# Loop through each dictionary in the data list\n",
    "for member in data:\n",
    "    # Get the value of the favoriteFruit key\n",
    "    fruit = member['favoriteFruit']\n",
    "    # If the fruit is not already in the fruit_counts dictionary, add it with a count of 1\n",
    "    if fruit not in fruit_counts:\n",
    "        fruit_counts[fruit] = 1\n",
    "    # If the fruit is already in the fruit_counts dictionary, increment its count by 1\n",
    "    else:\n",
    "        fruit_counts[fruit] += 1\n",
    "\n",
    "# Find the minimum count of an occurrence\n",
    "min_count = min(fruit_counts.values())\n",
    "\n",
    "# Print the minimum count of an occurrence\n",
    "print(fruit_counts)\n",
    "print(min_count)"
   ]
  },
  {
   "cell_type": "code",
   "execution_count": 134,
   "metadata": {},
   "outputs": [
    {
     "name": "stdout",
     "output_type": "stream",
     "text": [
      "210\n"
     ]
    }
   ],
   "source": [
    "# Total number of unread messages for all users: 210\n",
    "\n",
    "# Initialize a variable to store the total number of unread messages\n",
    "total_unread_messages = 0\n",
    "\n",
    "# Loop through each dictionary in the data list\n",
    "for member in data:\n",
    "    # Get the value of the greeting key\n",
    "    greeting = member['greeting']\n",
    "    # Find all the numbers in the greeting\n",
    "    numbers = [int(s) for s in greeting.split() if s.isdigit()]\n",
    "    # Add up the numbers and add the result to the total unread messages\n",
    "    total_unread_messages += sum(numbers)\n",
    "\n",
    "# Print the total number of unread messages\n",
    "print(total_unread_messages)"
   ]
  },
  {
   "cell_type": "markdown",
   "metadata": {},
   "source": [
    "\n"
   ]
  },
  {
   "cell_type": "markdown",
   "metadata": {},
   "source": [
    "# Import Notes\n",
    "\n",
    "### Module: \n",
    "- A module is a file containing Python definitions and statements. It can define functions, classes, and variables, and can be imported and used in other Python code.\n",
    "\n",
    "### Package: \n",
    "- A package is a collection of modules that are organized in a directory hierarchy. It can contain sub-packages, which are themselves packages, and modules, which are Python files.\n",
    "    \n",
    "### Library: \n",
    "- A library is a collection of code that is designed to be reused by other programs. It can contain modules, packages, and other resources, and is typically distributed as a package that can be installed and imported into Python code.\n",
    "\n",
    "- **Python Standard Library:**\n",
    "    - A Python library that comes preinstalled, but still has to be imported. (import math/intertools)\n",
    "\n",
    "- **3rd Party Packages:**\n",
    "    - Downloaded from online through a package manager. (Usually through command line as conda or pip) (import numpy/pandas)\n",
    "    - Pandas is built off of NumPy\n",
    "\n",
    "- **Personal Library:**\n",
    "    - Needs to live in the same spot as your file\n",
    "    \n",
    "            import name_of_file as my\n",
    "            my.function_name()\n",
    "\n",
    "        or\n",
    "\n",
    "            import name_of_file\n",
    "            name_of_file.function_name()\n",
    "\n",
    "**This allows for shorter calling:**\n",
    "<pre>\n",
    "    import math as m\n",
    "    m.sqrt()\n",
    "</pre>\n",
    "**This allows for direct calling:**\n",
    "<pre>\n",
    "    from math import sqrt\n",
    "    sqrt(5)\n",
    "</pre>   \n"
   ]
  }
 ],
 "metadata": {
  "kernelspec": {
   "display_name": "base",
   "language": "python",
   "name": "python3"
  },
  "language_info": {
   "codemirror_mode": {
    "name": "ipython",
    "version": 3
   },
   "file_extension": ".py",
   "mimetype": "text/x-python",
   "name": "python",
   "nbconvert_exporter": "python",
   "pygments_lexer": "ipython3",
   "version": "3.11.3"
  },
  "orig_nbformat": 4
 },
 "nbformat": 4,
 "nbformat_minor": 2
}
