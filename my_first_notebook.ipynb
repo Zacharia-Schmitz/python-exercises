{
 "cells": [
  {
   "cell_type": "markdown",
   "metadata": {},
   "source": [
    "Making a markdown cell."
   ]
  },
  {
   "cell_type": "code",
   "execution_count": 1,
   "metadata": {},
   "outputs": [
    {
     "name": "stdout",
     "output_type": "stream",
     "text": [
      "302\n",
      "47\n"
     ]
    }
   ],
   "source": [
    "x = 302 # Made x equal to 302\n",
    "print(x)\n",
    "\n",
    "y = 47 # Made y equal to 47\n",
    "print(y)"
   ]
  },
  {
   "cell_type": "code",
   "execution_count": 3,
   "metadata": {},
   "outputs": [
    {
     "name": "stdout",
     "output_type": "stream",
     "text": [
      "349\n"
     ]
    }
   ],
   "source": [
    "print(x + y) # Added x and y together"
   ]
  },
  {
   "cell_type": "code",
   "execution_count": 4,
   "metadata": {},
   "outputs": [
    {
     "name": "stdout",
     "output_type": "stream",
     "text": [
      "255\n"
     ]
    }
   ],
   "source": [
    "print(x - y) # Subtracted x and y"
   ]
  },
  {
   "cell_type": "markdown",
   "metadata": {},
   "source": [
    "Make text **BOLD** with text wrapped in **\n",
    "\n",
    "Make text *italicized* with text wrapped in *\n",
    "\n",
    "Three - - - with no spaces with make a horizontal line\n",
    "\n",
    "---\n",
    "\n",
    "Hyperlink with \\[title](example.com)\n",
    "\n",
    "Insert an image with \\![alt text]\\(image.jpg)\n",
    "\n",
    ">\\> at the beginning of a line to create a block quote\n",
    "\n",
    "# One # at the beginning of the line is Header 1\n",
    "\n",
    "## Two # at the beginning of the line is Header 2\n",
    "\n",
    "### Three # at the beginning of the line is Header 3\n"
   ]
  }
 ],
 "metadata": {
  "kernelspec": {
   "display_name": "Python 3",
   "language": "python",
   "name": "python3"
  },
  "language_info": {
   "codemirror_mode": {
    "name": "ipython",
    "version": 3
   },
   "file_extension": ".py",
   "mimetype": "text/x-python",
   "name": "python",
   "nbconvert_exporter": "python",
   "pygments_lexer": "ipython3",
   "version": "3.11.4"
  },
  "orig_nbformat": 4
 },
 "nbformat": 4,
 "nbformat_minor": 2
}
